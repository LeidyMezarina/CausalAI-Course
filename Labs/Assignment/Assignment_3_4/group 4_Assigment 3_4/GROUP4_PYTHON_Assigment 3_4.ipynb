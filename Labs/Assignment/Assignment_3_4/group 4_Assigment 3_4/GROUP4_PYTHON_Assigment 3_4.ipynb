{
 "cells": [
  {
   "cell_type": "code",
   "execution_count": 1,
   "id": "cc237bc6",
   "metadata": {},
   "outputs": [],
   "source": [
    "# QUESTION NUMBER 1\n",
    "import statsmodels.api as sm\n",
    "from sklearn.preprocessing import StandardScaler\n",
    "from sklearn.preprocessing import PolynomialFeatures\n",
    "from sklearn.linear_model import LassoCV\n",
    "from sklearn.model_selection import train_test_split\n",
    "from sklearn.linear_model import Lasso\n",
    "from sklearn.linear_model import LinearRegression\n",
    "from scipy.stats import norm\n",
    "import numpy as np\n",
    "import pandas as pd\n",
    "import patsy\n",
    "import os\n",
    "import warnings\n",
    "warnings.simplefilter('ignore')"
   ]
  },
  {
   "cell_type": "code",
   "execution_count": 5,
   "id": "81779d09",
   "metadata": {},
   "outputs": [
    {
     "data": {
      "text/plain": [
       "['wage',\n",
       " 'lwage',\n",
       " 'sex',\n",
       " 'shs',\n",
       " 'hsg',\n",
       " 'scl',\n",
       " 'clg',\n",
       " 'ad',\n",
       " 'mw',\n",
       " 'so',\n",
       " 'we',\n",
       " 'ne',\n",
       " 'exp1',\n",
       " 'exp2',\n",
       " 'exp3',\n",
       " 'exp4',\n",
       " 'occ',\n",
       " 'occ2',\n",
       " 'ind',\n",
       " 'ind2']"
      ]
     },
     "execution_count": 5,
     "metadata": {},
     "output_type": "execute_result"
    }
   ],
   "source": [
    "data = pd.read_csv(r'C:\\Users\\Maricielo\\Downloads\\wage2015_subsample_inference.csv')\n",
    "data = data.drop('rownames',axis=1)\n",
    "list(data.columns)"
   ]
  },
  {
   "cell_type": "code",
   "execution_count": 7,
   "id": "f398e780",
   "metadata": {},
   "outputs": [
    {
     "name": "stdout",
     "output_type": "stream",
     "text": [
      "   const       wage     lwage  sex  shs  hsg  scl  clg   ad   mw  ...   we  \\\n",
      "0    1.0   9.615385  2.263364    0  0.0  0.0  0.0  1.0  0.0  0.0  ...  0.0   \n",
      "1    1.0  48.076923  3.872802    0  0.0  0.0  0.0  1.0  0.0  0.0  ...  0.0   \n",
      "2    1.0  11.057692  2.403126    0  0.0  1.0  0.0  0.0  0.0  0.0  ...  0.0   \n",
      "3    1.0  13.942308  2.634928    0  0.0  0.0  0.0  0.0  1.0  0.0  ...  0.0   \n",
      "4    1.0  28.846154  3.361977    0  0.0  0.0  0.0  1.0  0.0  0.0  ...  0.0   \n",
      "\n",
      "    ne  exp1  exp2    exp3     exp4     occ  occ2     ind  ind2  \n",
      "0  1.0   7.0  0.49   0.343   0.2401  3600.0    11  8370.0    18  \n",
      "1  1.0  31.0  9.61  29.791  92.3521  3050.0    10  5070.0     9  \n",
      "2  1.0  18.0  3.24   5.832  10.4976  6260.0    19   770.0     4  \n",
      "3  1.0  25.0  6.25  15.625  39.0625   420.0     1  6990.0    12  \n",
      "4  1.0  22.0  4.84  10.648  23.4256  2015.0     6  9470.0    22  \n",
      "\n",
      "[5 rows x 21 columns]\n"
     ]
    }
   ],
   "source": [
    "import pandas as pd\n",
    "from sklearn.preprocessing import OneHotEncoder\n",
    "from sklearn.linear_model import Lasso\n",
    "from statsmodels.api import add_constant\n",
    "\n",
    "\n",
    "# Transformar variables categóricas a dummies (suponiendo que 'sex' y 'location' son categóricas)\n",
    "# Convirtiendo 'sex' en una columna binaria (0 para 'female', 1 para 'male')\n",
    "data['sex'] = data['sex'].apply(lambda x: 1 if x == 'male' else 0)\n",
    "\n",
    "# Si hay otras variables categóricas, pueden transformarse utilizando OneHotEncoder o pandas.get_dummies\n",
    "# Por ejemplo, transformar una columna 'location' con varias categorías:\n",
    "# data = pd.get_dummies(data, columns=['location'], drop_first=True)\n",
    "\n",
    "# Generar interacciones binarias\n",
    "# Si necesitas calcular interacciones específicas entre variables, puedes hacerlo manualmente o programáticamente.\n",
    "# Aquí se muestra un ejemplo para crear una columna de interacción entre 'treat' y 'sex' (si existe 'treat'):\n",
    "if 'treat' in data.columns:\n",
    "    data['treat_sex_interaction'] = data['treat'] * data['sex']\n",
    "\n",
    "# Si necesitas un dataframe con todas las variables originales y las interacciones:\n",
    "# Puedes agregar más interacciones de manera similar.\n",
    "\n",
    "# Opcional: Agregar una constante (intercepto) si es necesario\n",
    "data_with_const = add_constant(data)\n",
    "\n",
    "print(data_with_const.head())\n"
   ]
  },
  {
   "cell_type": "code",
   "execution_count": null,
   "id": "88f1d834",
   "metadata": {},
   "outputs": [],
   "source": [
    "# Variables categóricas identificadas\n",
    "categorical_vars = ['sex', 'mw', 'so', 'we', 'ne']  # Género y ubicaciones\n",
    "\n",
    "# Convertir variables categóricas en dummies\n",
    "data = pd.get_dummies(data, columns=categorical_vars, drop_first=True)\n",
    "\n",
    "# Generar todas las interacciones bidireccionales\n",
    "interaction_terms = []\n",
    "for col1 in data.columns:\n",
    "    for col2 in data.columns:\n",
    "        if col1 != col2 and f\"{col2}*{col1}\" not in interaction_terms:\n",
    "            data[f\"{col1}*{col2}\"] = data[col1] * data[col2]\n",
    "            interaction_terms.append(f\"{col1}*{col2}\")\n"
   ]
  },
  {
   "cell_type": "code",
   "execution_count": null,
   "id": "d6746be4",
   "metadata": {},
   "outputs": [],
   "source": [
    "# Seleccionar la variable objetivo y las predictoras\n",
    "y = data['wage']  # Salario como variable dependiente\n",
    "X = data.drop(columns=['wage'])  # Resto de las variables como predictoras\n",
    "\n",
    "# Escalamiento de las variables predictoras para Lasso\n",
    "scaler = StandardScaler()\n",
    "X_scaled = scaler.fit_transform(X)\n"
   ]
  },
  {
   "cell_type": "code",
   "execution_count": null,
   "id": "68429187",
   "metadata": {},
   "outputs": [],
   "source": [
    "# Configuración de validación cruzada\n",
    "cv = KFold(n_splits=5, shuffle=True, random_state=42)\n",
    "\n",
    "# Ajustar modelo Lasso con selección de lambda óptima\n",
    "lasso = LassoCV(cv=cv, random_state=42)\n",
    "lasso.fit(X_scaled, y)\n",
    "\n",
    "# Extraer coeficientes\n",
    "lasso_coefficients = pd.Series(lasso.coef_, index=X.columns)\n",
    "\n",
    "# Mostrar coeficientes seleccionados\n",
    "print(\"Coeficientes seleccionados por Lasso:\")\n",
    "print(lasso_coefficients[lasso_coefficients != 0])\n"
   ]
  },
  {
   "cell_type": "code",
   "execution_count": null,
   "id": "2a845e92",
   "metadata": {},
   "outputs": [],
   "source": [
    "# Reajuste del modelo con variables seleccionadas\n",
    "selected_features = lasso_coefficients[lasso_coefficients != 0].index\n",
    "X_selected = add_constant(X[selected_features])  # Agregar constante para la regresión\n",
    "\n",
    "ols_model = OLS(y, X_selected).fit()\n",
    "\n",
    "# Resumen del modelo\n",
    "print(ols_model.summary())\n",
    "\n",
    "# Interpretación: Analizar coeficientes\n",
    "impact_clg = lasso_coefficients.filter(like='CLG')  # Filtros relacionados con CLG\n",
    "print(\"\\nImpacto de ser graduado universitario en diferentes grupos:\")\n",
    "print(impact_clg)\n"
   ]
  },
  {
   "cell_type": "code",
   "execution_count": null,
   "id": "82d7213d",
   "metadata": {},
   "outputs": [],
   "source": [
    "pip install networkx matplotlib"
   ]
  },
  {
   "cell_type": "code",
   "execution_count": null,
   "id": "e334a099",
   "metadata": {},
   "outputs": [],
   "source": [
    "import networkx as nx\n",
    "import matplotlib.pyplot as plt\n",
    "\n",
    "def draw_dag(edges, title):\n",
    "    \"\"\"\n",
    "    Draws a Directed Acyclic Graph (DAG) based on the provided edges.\n",
    "    \n",
    "    Parameters:\n",
    "    - edges: List of tuples representing directed edges (source, target)\n",
    "    - title: Title of the graph\n",
    "    \"\"\"\n",
    "    G = nx.DiGraph()\n",
    "    G.add_edges_from(edges)\n",
    "\n",
    "    plt.figure(figsize=(10, 6))\n",
    "    pos = nx.spring_layout(G, seed=42)  # Layout for consistent placement\n",
    "    nx.draw(G, pos, with_labels=True, node_size=3000, node_color=\"lightblue\", font_size=10, font_weight=\"bold\", arrowsize=15)\n",
    "    plt.title(title)\n",
    "    plt.show()\n",
    "\n",
    "# DAG for the first scenario: Tabaquismo y función pulmonar\n",
    "edges_tabaquismo = [\n",
    "    (\"Conducta individual de tabaquismo\", \"Volumen respiratorio forzado\"),\n",
    "    (\"Edad\", \"Conducta individual de tabaquismo\"),\n",
    "    (\"Edad\", \"Volumen respiratorio forzado\"),\n",
    "    (\"Altura\", \"Volumen respiratorio forzado\"),\n",
    "    (\"Sexo\", \"Conducta individual de tabaquismo\"),\n",
    "    (\"Sexo\", \"Volumen respiratorio forzado\")\n",
    "]\n",
    "draw_dag(edges_tabaquismo, \"Efecto del Tabaquismo sobre la Función Pulmonar\")\n",
    "\n",
    "# DAG for the second scenario: Lactancia materna e infecciones\n",
    "edges_lactancia = [\n",
    "    (\"Lactancia materna\", \"Número de infecciones del bebé\"),\n",
    "    (\"Ingresos familiares\", \"Lactancia materna\"),\n",
    "    (\"Ingresos familiares\", \"Número de infecciones del bebé\"),\n",
    "    (\"Educación\", \"Lactancia materna\"),\n",
    "    (\"Educación\", \"Número de infecciones del bebé\"),\n",
    "    (\"Número de niños en el hogar\", \"Lactancia materna\"),\n",
    "    (\"Número de niños en el hogar\", \"Número de infecciones del bebé\"),\n",
    "    (\"Cuidado de niños fuera del hogar\", \"Número de infecciones del bebé\"),\n",
    "    (\"Cuidado de niños fuera del hogar\", \"Lactancia materna\"),\n",
    "    (\"Estado civil\", \"Lactancia materna\"),\n",
    "    (\"Estado civil\", \"Número de infecciones del bebé\")\n",
    "]\n",
    "draw_dag(edges_lactancia, \"Efecto de la Lactancia Materna sobre las Infecciones\")\n"
   ]
  },
  {
   "cell_type": "code",
   "execution_count": null,
   "id": "79096488",
   "metadata": {},
   "outputs": [],
   "source": []
  }
 ],
 "metadata": {
  "kernelspec": {
   "display_name": "Python 3 (ipykernel)",
   "language": "python",
   "name": "python3"
  },
  "language_info": {
   "codemirror_mode": {
    "name": "ipython",
    "version": 3
   },
   "file_extension": ".py",
   "mimetype": "text/x-python",
   "name": "python",
   "nbconvert_exporter": "python",
   "pygments_lexer": "ipython3",
   "version": "3.9.13"
  }
 },
 "nbformat": 4,
 "nbformat_minor": 5
}
